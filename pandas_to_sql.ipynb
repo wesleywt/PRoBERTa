{
 "cells": [
  {
   "cell_type": "markdown",
   "source": [
    "# SQL queries in Python\n",
    "We can use python to make queries and changes in the SQL database. I need to add the protein sequences for each uniprot id\n",
    "to the appropriate column and row.\n",
    "\n",
    "## 1. Connect Python to MySQL\n",
    "I already set up the MySQL server and created a database called protein_interactions. Within the database I have a table\n",
    "containing human-virus protein interactions. This table does not have the sequences for each protein interaction. We will\n",
    "attempt to add these to the database."
   ],
   "metadata": {
    "collapsed": false,
    "pycharm": {
     "name": "#%% md\n"
    }
   }
  },
  {
   "cell_type": "code",
   "execution_count": 1,
   "outputs": [
    {
     "name": "stdout",
     "output_type": "stream",
     "text": [
      "('P62277', 'Q1HVI8')\n",
      "('Q8NFH4', 'P05954')\n",
      "('Q9UI26', 'Q2HRD4')\n",
      "('Q8TAE8', 'I6TAH8')\n",
      "('Q7Z3B4', 'P35962')\n",
      "('P25398', 'P03430')\n",
      "('Q6P1N9', 'P27958')\n",
      "('A0A087WVQ6', 'Q8AZK7')\n",
      "('Q03001', 'Q99IB8-PRO_000004560')\n",
      "('P19013', 'P14079')\n"
     ]
    }
   ],
   "source": [
    "import mysql.connector as sql\n",
    "\n",
    "human_virus_db = sql.connect(\n",
    "    host=\"localhost\",\n",
    "    user='wesley',\n",
    "    password='cheese&wine20',\n",
    "    database='protein_interactions'\n",
    "\n",
    "\n",
    ")\n",
    "mycursor = human_virus_db.cursor()\n",
    "mycursor.execute(\"SELECT Uniprot_human, Uniprot_virus FROM human_virus\")\n",
    "\n",
    "uniprot_ids = mycursor.fetchall()\n",
    "\n",
    "for id in uniprot_ids[0:10]:\n",
    "    print(id)"
   ],
   "metadata": {
    "collapsed": false,
    "pycharm": {
     "name": "#%%\n"
    }
   }
  },
  {
   "cell_type": "markdown",
   "source": [
    "## 2. Query Uniprot with the Uniprot IDs"
   ],
   "metadata": {
    "collapsed": false,
    "pycharm": {
     "name": "#%% md\n"
    }
   }
  },
  {
   "cell_type": "code",
   "execution_count": 34,
   "outputs": [],
   "source": [
    "uniprot_human_ids = []\n",
    "uniprot_virus_ids = []\n",
    "for id in uniprot_ids:\n",
    "        uniprot_human_ids.append(id[0])\n",
    "        uniprot_virus_ids.append(id[1])"
   ],
   "metadata": {
    "collapsed": false,
    "pycharm": {
     "name": "#%%\n"
    }
   }
  },
  {
   "cell_type": "code",
   "execution_count": 48,
   "outputs": [
    {
     "name": "stdout",
     "output_type": "stream",
     "text": [
      "P62277\n",
      "https://www.uniprot.org/uniprot/P62277.fasta\n",
      "Q8NFH4\n",
      "https://www.uniprot.org/uniprot/Q8NFH4.fasta\n",
      "Q9UI26\n",
      "https://www.uniprot.org/uniprot/Q9UI26.fasta\n",
      "Q8TAE8\n",
      "https://www.uniprot.org/uniprot/Q8TAE8.fasta\n",
      "Q7Z3B4\n",
      "https://www.uniprot.org/uniprot/Q7Z3B4.fasta\n",
      "MAFNFGAPSGTSGTAAATAAPAGGFGGFGTTSTTAGSAFSFSAPTNTGTTGLFGGTQNKGFGFGTGFGTTTGTSTGLGTGLGTGLGFGGFNTQQQQQTTLGGLFSQPTQAPTQSNQLINTASALSAPTLLGDERDAILAKWNQLQAFWGTGKGYFNNNIPPVEFTQENPFCRFKAVGYSCMPSNKDEDGLVVLVFNKKETEIRSQQQQLVESLHKVLGGNQTLTVNVEGTKTLPDDQTEVVIYVVERSPNGTSRRVPATTLYAHFEQANIKTQLQQLGVTLSMTRTELSPAQIKQLLQNPPAGVDPIIWEQAKVDNPDSEKLIPVPMVGFKELLRRLKVQDQMTKQHQTRLDIISEDISELQKNQTTSVAKIAQYKRKLMDLSHRTLQVLIKQEIQRKSGYAIQADEEQLRVQLDTIQGELNAPTQFKGRLNELMSQIRMQNHFGAVRSEERYYIDADLLREIKQHLKQQQEGLSHLISIIKDDLEDIKLVEHGLNETIHIRGGVFS\n",
      "{'P62277': 'MGRMHAPGKGLSQSALPYRRSVPTWLKLTSDDVKEQIYKLAKKGLTPSQIGVILRDSHGVAQVRFVTGNKILRILKSKGLAPDLPEDLYHLIKKAVAVRKHLERNRKDKDAKFRLILIESRIHRLARYYKTKRVLPPNWKYESSTASALVA', 'Q8NFH4': 'MKQDASRNAAYTVDCEDYVHVVEFNPFENGDSGNLIAYGGNNYVVIGTCTFQEEEADVEGIQYKTLRTFHHGVRVDGIAWSPETRLDSLPPVIKFCTSAADMKIRLFTSDLQDKNEYKVLEGHTDFINGLVFDPKEGQEIASVSDDHTCRIWNLEGVQTAHFVLHSPGMSVCWHPEETFKLMVAEKNGTIRFYDLLAQQAILSLESEQVPLMSAHWCLKNTFKVGAVAGNDWLIWDITRSSYPQNKRPVHMDRACLFRWSTISENLFATTGYPGKMASQFQIHHLGHPQPILMGSVAVGSGLSWHRTLPLCVIGGDHKLLFWVTEV', 'Q9UI26': 'MDLNSASTVVLQVLTQATSQDTAVLKPAEEQLKQWETQPGFYSVLLNIFTNHTLDINVRWLAVLYFKHGIDRYWRRVAPHALSEEEKTTLRAGLITNFNEPINQIATQIAVLIAKVARLDCPRQWPELIPTLIESVKVQDDLRQHRALLTFYHVTKTLASKRLAADRKLFYDLASGIYNFACSLWNHHTDTFLQEVSSGNEAAILSSLERTLLSLKVLRKLTVNGFVEPHKNMEVMGFLHGIFERLKQFLECSRSIGTDNVCRDRLEKTIILFTKVLLDFLDQHPFSFTPLIQRSLEFSVSYVFTEVGEGVTFERFIVQCMNLIKMIVKNYAYKPSKNFEDSSPETLEAHKIKMAFFTYPTLTEICRRLVSHYFLLTEEELTMWEEDPEGFTVEETGGDSWKYSLRPCTEVLFIDIFHEYNQTLTPVLLEMMQTLQGPTNVEDMNALLIKDAVYNAVGLAAYELFDSVDFDQWFKNQLLPELQVIHNRYKPLRRRVIWLIGQWISVKFKSDLRPMLYEAICNLLQDQDLVVRIETATTLKLTVDDFEFRTDQFLPYLETMFTLLFQLLQQVTECDTKMHVLHVLSCVIERVNMQIRPYVGCLVQYLPLLWKQSEEHNMLRCAILTTLIHLVQGLGADSKNLYPFLLPVIQLSTDVSQPPHVYLLEDGLELWLVTLENSPCITPELLRIFQNMSPLLELSSENLRTCFKIINGYIFLSSTEFLQTYAVGLCQSFCELLKEITTEGQVQVLKVVENALKVNPILGPQMFQPILPYVFKGIIEGERYPVVMSTYLGVMGRVLLQNTSFFSSLLNEMAHKFNQEMDQLLGNMIEMWVDRMDNITQPERRKLSALALLSLLPSDNSVIQDKFCGIINISVEGLHDVMTEDPETGTYKDCMLMSHLEEPKVTEDEEPPTEQDKRKKMLALKDPVHTVSLQQFIYEKLKAQQEMLGEQGFQSLMETVDTEIVTQLQEFLQGF', 'Q8TAE8': 'MAASVRQARSLLGVAATLAPGSRGYRARPPPRRRPGPRWPDPEDLLTPRWQLGPRYAAKQFARYGAASGVVPGSLWPSPEQLRELEAEEREWYPSLATMQESLRVKQLAEEQKRREREQHIAECMAKMPQMIVNWQQQQRENWEKAQADKERRARLQAEAQELLGYQVDPRSARFQELLQDLEKKERKRLKEEKQKRKKEARAAALAAAVAQDPAASGAPSS', 'Q7Z3B4': 'MAFNFGAPSGTSGTAAATAAPAGGFGGFGTTSTTAGSAFSFSAPTNTGTTGLFGGTQNKGFGFGTGFGTTTGTSTGLGTGLGTGLGFGGFNTQQQQQTTLGGLFSQPTQAPTQSNQLINTASALSAPTLLGDERDAILAKWNQLQAFWGTGKGYFNNNIPPVEFTQENPFCRFKAVGYSCMPSNKDEDGLVVLVFNKKETEIRSQQQQLVESLHKVLGGNQTLTVNVEGTKTLPDDQTEVVIYVVERSPNGTSRRVPATTLYAHFEQANIKTQLQQLGVTLSMTRTELSPAQIKQLLQNPPAGVDPIIWEQAKVDNPDSEKLIPVPMVGFKELLRRLKVQDQMTKQHQTRLDIISEDISELQKNQTTSVAKIAQYKRKLMDLSHRTLQVLIKQEIQRKSGYAIQADEEQLRVQLDTIQGELNAPTQFKGRLNELMSQIRMQNHFGAVRSEERYYIDADLLREIKQHLKQQQEGLSHLISIIKDDLEDIKLVEHGLNETIHIRGGVFS'}\n"
     ]
    }
   ],
   "source": [
    "import urllib.parse\n",
    "import urllib.request\n",
    "seq_dict ={}\n",
    "for id in uniprot_human_ids[0:5]:\n",
    "    print(id)\n",
    "    url = f'https://www.uniprot.org/uniprot/{id}.fasta'\n",
    "    print(url)\n",
    "    with urllib.request.urlopen(url) as r:\n",
    "        fasta = r.read().decode('utf-8').strip()\n",
    "        sequence = \"\".join(fasta.split(\"\\n\")[1:])\n",
    "        seq_dict[f'{id}'] = sequence\n",
    "\n",
    "print(sequence)\n",
    "print(seq_dict)"
   ],
   "metadata": {
    "collapsed": false,
    "pycharm": {
     "name": "#%%\n"
    }
   }
  },
  {
   "cell_type": "code",
   "execution_count": null,
   "outputs": [],
   "source": [],
   "metadata": {
    "collapsed": false,
    "pycharm": {
     "name": "#%%\n"
    }
   }
  },
  {
   "cell_type": "code",
   "execution_count": 42,
   "outputs": [
    {
     "data": {
      "text/plain": "'MAFNFGAPSGTSGTAAATAAPAGGFGGFGTTSTTAGSAFSFSAPTNTGTTGLFGGTQNKGFGFGTGFGTTTGTSTGLGTGLGTGLGFGGFNTQQQQQTTLGGLFSQPTQAPTQSNQLINTASALSAPTLLGDERDAILAKWNQLQAFWGTGKGYFNNNIPPVEFTQENPFCRFKAVGYSCMPSNKDEDGLVVLVFNKKETEIRSQQQQLVESLHKVLGGNQTLTVNVEGTKTLPDDQTEVVIYVVERSPNGTSRRVPATTLYAHFEQANIKTQLQQLGVTLSMTRTELSPAQIKQLLQNPPAGVDPIIWEQAKVDNPDSEKLIPVPMVGFKELLRRLKVQDQMTKQHQTRLDIISEDISELQKNQTTSVAKIAQYKRKLMDLSHRTLQVLIKQEIQRKSGYAIQADEEQLRVQLDTIQGELNAPTQFKGRLNELMSQIRMQNHFGAVRSEERYYIDADLLREIKQHLKQQQEGLSHLISIIKDDLEDIKLVEHGLNETIHIRGGVFS'"
     },
     "execution_count": 42,
     "metadata": {},
     "output_type": "execute_result"
    }
   ],
   "source": [],
   "metadata": {
    "collapsed": false,
    "pycharm": {
     "name": "#%%\n"
    }
   }
  },
  {
   "cell_type": "code",
   "execution_count": null,
   "outputs": [],
   "source": [],
   "metadata": {
    "collapsed": false,
    "pycharm": {
     "name": "#%%\n"
    }
   }
  }
 ],
 "metadata": {
  "kernelspec": {
   "display_name": "Python 3",
   "language": "python",
   "name": "python3"
  },
  "language_info": {
   "codemirror_mode": {
    "name": "ipython",
    "version": 2
   },
   "file_extension": ".py",
   "mimetype": "text/x-python",
   "name": "python",
   "nbconvert_exporter": "python",
   "pygments_lexer": "ipython2",
   "version": "2.7.6"
  }
 },
 "nbformat": 4,
 "nbformat_minor": 0
}