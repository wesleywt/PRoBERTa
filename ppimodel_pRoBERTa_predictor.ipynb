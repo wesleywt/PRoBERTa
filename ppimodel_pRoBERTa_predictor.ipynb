{
 "cells": [
  {
   "cell_type": "markdown",
   "metadata": {
    "collapsed": true,
    "pycharm": {
     "name": "#%% md\n"
    }
   },
   "source": [
    "# Training a pRoBERTa model to predict human-virus interactions\n",
    "This notebook describes how you use a trained pRoBERTa model for predictions. We will test different datasets to see how\n",
    "the model performs.\n",
    "\n",
    "## Story till now\n",
    "I have managed to fine-tune the HIPPIE human-human protein-protein interaction model using the human-virus dataset I\n",
    "previously used to construct a feed forward neural network. I managed to obtain a validation accuracy of 97%. However,\n",
    "when using the H1N1 dataset to validate the model's accuracy on unseen data, I managed to only get 77% accuracy.\n",
    "\n",
    "There are two possible reasons for this. The first reason is that the test dataset itself is flawed. That there is already\n",
    "a high amount of false positive or false negatives in the dataset. The second reason is that the training datasets are\n",
    "flawed, with large amounts of false positives and false negatives.\n",
    "\n",
    "Thus, we need to carefully select what data we will train the PPI model with and what data we will test the datasets on.\n",
    "Are there any PPI datasets that have been curated for PPI training?\n",
    "\n",
    "#### HVIDB\n",
    "One dataset, the HVIDB [Yang 2021], claims to be a comprehensive database for human-virus protein-protein interactions.\n",
    "\n",
    "\n",
    "## Generalization versus Specialization\n",
    "There are levels of generality that the model can predict ppis on:\n",
    "1. General model for protein-protein interactions is applicable on all virus-human interactions or bacterial-human or\n",
    "any interaction.\n",
    "2. A model that is general at the level of viral family and human interactions\n",
    "3. A model that is specific for a particular tissue type or receptor types, such as membrane receptors or transcriptional\n",
    "receptors.\n",
    "4. A model that is specific for one species of virus/bacteria and one host, the human.\n",
    "\n",
    "### 1. A general model for the prediction of protein-protein interactions\n",
    "A general model will be capable of predicting protein-protein interactions between any virus or bacteria and humans.\n",
    "You would train this model on a large dataset protein-protein interactions without filtering the dataset for a particular\n",
    "interaction.\n",
    "\n",
    "It is hard to make these generalizations as the mechanism for binding might differ between evolutionarily distinct\n",
    "organisms or in different tissue types. Would the elements in the protein sequence for binding proteins differ if the protein\n",
    "being targeted occurred on the plasmid membrane and is used for cell entry be different from the elements required to bind\n",
    "and hijack the transcriptional machinery? Zhou et al [2018] trained a SVM model for generalized prediction between many\n",
    "viruses and many hosts. The highest accuracies obtained were 67% accuracy, while obtaining accuracies of 77% accuracies.\n",
    "\n",
    "These were similar accuracies obtained when training a feed forward neural network and fine-tuning a transformer\n",
    "on the same dataset.\n",
    "\n",
    "I wonder if the testing dataset and how the negative examples were constructed could have something to do with the accuracies\n",
    "achieved. Let's look at the datasets.\n",
    "\n",
    "#### Positive Protein Interaction Dataset\n",
    "They extracted all known PPIs between virus and hosts uing PSCICQUIC web service. Extracting from four databses:\n",
    "1. APID\n",
    "2. IntAct\n",
    "3. Metha\n",
    "4. Uniprot\n",
    "\n",
    "They all use the same protein identifiers. The dataset however was not filtered based on any quality parameters, therefore\n",
    "the presence of false positives could be significant.\n",
    "\n",
    "#### Negative Protein Interaction Dataset\n",
    "The negative set comprised of randomly selected protein sequences of the major hosts, human, plant and bacteria from Uniprot.\n",
    "A protein with the sequence similarity of greater than 80% to any protein sequence in the positive dataset was removed.\n",
    "But this does not necessarily remove potential protein-protein interactors because low similarity protein sequences can still\n",
    "have the ability to bind each [citation needed].\n",
    "\n"
   ]
  },
  {
   "cell_type": "code",
   "execution_count": null,
   "outputs": [],
   "source": [
    "import pandas as pd\n",
    "\n",
    "\n"
   ],
   "metadata": {
    "collapsed": false,
    "pycharm": {
     "name": "#%%\n"
    }
   }
  }
 ],
 "metadata": {
  "kernelspec": {
   "display_name": "Python 3",
   "language": "python",
   "name": "python3"
  },
  "language_info": {
   "codemirror_mode": {
    "name": "ipython",
    "version": 2
   },
   "file_extension": ".py",
   "mimetype": "text/x-python",
   "name": "python",
   "nbconvert_exporter": "python",
   "pygments_lexer": "ipython2",
   "version": "2.7.6"
  }
 },
 "nbformat": 4,
 "nbformat_minor": 0
}